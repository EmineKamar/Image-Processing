{
 "cells": [
  {
   "cell_type": "code",
   "execution_count": 88,
   "metadata": {
    "_cell_guid": "79c7e3d0-c299-4dcb-8224-4455121ee9b0",
    "_uuid": "d629ff2d2480ee46fbb7e2d37f6b5fab8052498a",
    "execution": {
     "iopub.execute_input": "2022-04-29T02:48:40.723542Z",
     "iopub.status.busy": "2022-04-29T02:48:40.723189Z",
     "iopub.status.idle": "2022-04-29T02:48:40.735578Z",
     "shell.execute_reply": "2022-04-29T02:48:40.734690Z",
     "shell.execute_reply.started": "2022-04-29T02:48:40.723505Z"
    }
   },
   "outputs": [],
   "source": [
    "import numpy as np\n",
    "import pandas as pd\n",
    "import matplotlib.pyplot as plt\n",
    "%matplotlib inline\n",
    "import seaborn as sns\n",
    "import cv2\n",
    "import os\n",
    "from tqdm import tqdm\n",
    "from sklearn.metrics import confusion_matrix\n",
    "from sklearn.model_selection import train_test_split\n",
    "from keras.utils.np_utils import to_categorical\n",
    "from keras.models import Model,Sequential, Input, load_model\n",
    "from keras.layers import Dense, Dropout, Flatten, Conv2D, MaxPool2D, BatchNormalization, AveragePooling2D, GlobalAveragePooling2D\n",
    "from keras.optimizers import Adam\n",
    "from keras.preprocessing.image import ImageDataGenerator\n",
    "from keras.callbacks import ModelCheckpoint, ReduceLROnPlateau\n",
    "from keras.applications import InceptionResNetV2"
   ]
  },
  {
   "cell_type": "code",
   "execution_count": 89,
   "metadata": {
    "execution": {
     "iopub.execute_input": "2022-04-29T02:48:40.844571Z",
     "iopub.status.busy": "2022-04-29T02:48:40.844248Z",
     "iopub.status.idle": "2022-04-29T02:48:41.517965Z",
     "shell.execute_reply": "2022-04-29T02:48:41.517145Z",
     "shell.execute_reply.started": "2022-04-29T02:48:40.844532Z"
    }
   },
   "outputs": [],
   "source": [
    "import numpy as np \n",
    "import pandas as pd \n",
    "import os\n",
    "for dirname, _, filenames in os.walk('../input/sarscov2-ctscan-dataset'):\n",
    "    for filename in filenames:\n",
    "        print(os.path.join(dirname, filename))"
   ]
  },
  {
   "cell_type": "code",
   "execution_count": 90,
   "metadata": {
    "execution": {
     "iopub.execute_input": "2022-04-29T02:48:41.523396Z",
     "iopub.status.busy": "2022-04-29T02:48:41.523140Z",
     "iopub.status.idle": "2022-04-29T02:48:41.531024Z",
     "shell.execute_reply": "2022-04-29T02:48:41.530225Z",
     "shell.execute_reply.started": "2022-04-29T02:48:41.523370Z"
    }
   },
   "outputs": [],
   "source": [
    "disease_types=['COVID', 'non-COVID']\n",
    "data_dir = '../input/sarscov2-ctscan-dataset/'\n",
    "train_dir = os.path.join(data_dir)"
   ]
  },
  {
   "cell_type": "code",
   "execution_count": 91,
   "metadata": {
    "execution": {
     "iopub.execute_input": "2022-04-29T02:48:41.535649Z",
     "iopub.status.busy": "2022-04-29T02:48:41.535216Z",
     "iopub.status.idle": "2022-04-29T02:48:41.575499Z",
     "shell.execute_reply": "2022-04-29T02:48:41.574799Z",
     "shell.execute_reply.started": "2022-04-29T02:48:41.535620Z"
    }
   },
   "outputs": [],
   "source": [
    "from glob import glob\n",
    "covid_path = '../input/sarscov2-ctscan-dataset/COVID'\n",
    "noncovid_path = '../input/sarscov2-ctscan-dataset/non-COVID'\n",
    "covid_files = glob(covid_path + '/*')\n",
    "noncovid_files = glob(noncovid_path + '/*')"
   ]
  },
  {
   "cell_type": "code",
   "execution_count": 92,
   "metadata": {
    "execution": {
     "iopub.execute_input": "2022-04-29T02:48:41.577601Z",
     "iopub.status.busy": "2022-04-29T02:48:41.577323Z",
     "iopub.status.idle": "2022-04-29T02:48:41.589155Z",
     "shell.execute_reply": "2022-04-29T02:48:41.588294Z",
     "shell.execute_reply.started": "2022-04-29T02:48:41.577576Z"
    }
   },
   "outputs": [],
   "source": [
    "print(\"First 5 Covid Files: \",covid_files[0:5])\n",
    "print(\"Total Count: \",len(covid_files))\n",
    "print(\"First 5 NonCovid Files: \",noncovid_files[0:5])\n",
    "print(\"Total Count: \",len(noncovid_files))"
   ]
  },
  {
   "cell_type": "code",
   "execution_count": 93,
   "metadata": {
    "execution": {
     "iopub.execute_input": "2022-04-29T02:48:41.591471Z",
     "iopub.status.busy": "2022-04-29T02:48:41.591233Z",
     "iopub.status.idle": "2022-04-29T02:48:41.623010Z",
     "shell.execute_reply": "2022-04-29T02:48:41.622322Z",
     "shell.execute_reply.started": "2022-04-29T02:48:41.591425Z"
    }
   },
   "outputs": [],
   "source": [
    "train_data = []\n",
    "for defects_id, sp in enumerate(disease_types):\n",
    "    for file in os.listdir(os.path.join(train_dir, sp)):\n",
    "        train_data.append(['{}/{}'.format(sp, file), defects_id, sp])\n",
    "        \n",
    "train = pd.DataFrame(train_data, columns=['File', 'DiseaseID','Disease Type'])\n",
    "train.head()"
   ]
  },
  {
   "cell_type": "code",
   "execution_count": 94,
   "metadata": {
    "execution": {
     "iopub.execute_input": "2022-04-29T02:48:41.624709Z",
     "iopub.status.busy": "2022-04-29T02:48:41.624348Z",
     "iopub.status.idle": "2022-04-29T02:48:41.644023Z",
     "shell.execute_reply": "2022-04-29T02:48:41.643344Z",
     "shell.execute_reply.started": "2022-04-29T02:48:41.624674Z"
    }
   },
   "outputs": [],
   "source": [
    "SEED = 42\n",
    "train = train.sample(frac=1, random_state=SEED) \n",
    "train.index = np.arange(len(train)) # Reset indices\n",
    "train.head()"
   ]
  },
  {
   "cell_type": "code",
   "execution_count": 95,
   "metadata": {
    "execution": {
     "iopub.execute_input": "2022-04-29T02:48:41.647770Z",
     "iopub.status.busy": "2022-04-29T02:48:41.647503Z",
     "iopub.status.idle": "2022-04-29T02:48:41.658227Z",
     "shell.execute_reply": "2022-04-29T02:48:41.657402Z",
     "shell.execute_reply.started": "2022-04-29T02:48:41.647742Z"
    }
   },
   "outputs": [],
   "source": [
    "def plot_defects(defect_types, rows, cols):\n",
    "    fig, ax = plt.subplots(rows, cols, figsize=(12, 12))\n",
    "    defect_files = train['File'][train['Disease Type'] == defect_types].values\n",
    "    n = 0\n",
    "    for i in range(rows):\n",
    "        for j in range(cols):\n",
    "            image_path = os.path.join(data_dir, defect_files[n])\n",
    "            ax[i, j].set_xticks([])\n",
    "            ax[i, j].set_yticks([])\n",
    "            ax[i, j].imshow(cv2.imread(image_path))\n",
    "            n += 1"
   ]
  },
  {
   "cell_type": "code",
   "execution_count": 96,
   "metadata": {
    "execution": {
     "iopub.execute_input": "2022-04-29T02:48:41.663671Z",
     "iopub.status.busy": "2022-04-29T02:48:41.663058Z",
     "iopub.status.idle": "2022-04-29T02:48:41.672344Z",
     "shell.execute_reply": "2022-04-29T02:48:41.671492Z",
     "shell.execute_reply.started": "2022-04-29T02:48:41.663612Z"
    }
   },
   "outputs": [],
   "source": [
    "IMAGE_SIZE = 120\n",
    "def read_image(filepath):\n",
    "    return cv2.imread(os.path.join(data_dir, filepath)) # Loading a color image is the default flag\n",
    "# Resize image to target size\n",
    "def resize_image(image, image_size):\n",
    "    return cv2.resize(image.copy(), image_size, interpolation=cv2.INTER_AREA)"
   ]
  },
  {
   "cell_type": "code",
   "execution_count": 97,
   "metadata": {
    "execution": {
     "iopub.execute_input": "2022-04-29T02:48:41.675909Z",
     "iopub.status.busy": "2022-04-29T02:48:41.675519Z",
     "iopub.status.idle": "2022-04-29T02:49:07.281094Z",
     "shell.execute_reply": "2022-04-29T02:49:07.277985Z",
     "shell.execute_reply.started": "2022-04-29T02:48:41.675869Z"
    }
   },
   "outputs": [],
   "source": [
    "X_train = np.zeros((train.shape[0], IMAGE_SIZE, IMAGE_SIZE, 3))\n",
    "for i, file in tqdm(enumerate(train['File'].values)):\n",
    "    image = read_image(file)\n",
    "    if image is not None:\n",
    "        X_train[i] = resize_image(image, (IMAGE_SIZE, IMAGE_SIZE))\n",
    "# Normalize the data\n",
    "X_Train = X_train / 255.\n",
    "print('Train Shape: {}'.format(X_Train.shape))"
   ]
  },
  {
   "cell_type": "code",
   "execution_count": 98,
   "metadata": {
    "execution": {
     "iopub.execute_input": "2022-04-29T02:49:07.285132Z",
     "iopub.status.busy": "2022-04-29T02:49:07.284779Z",
     "iopub.status.idle": "2022-04-29T02:49:07.296659Z",
     "shell.execute_reply": "2022-04-29T02:49:07.294085Z",
     "shell.execute_reply.started": "2022-04-29T02:49:07.285097Z"
    }
   },
   "outputs": [],
   "source": [
    "y_train = train['DiseaseID'].values\n",
    "y_train = to_categorical(y_train, num_classes=2)"
   ]
  },
  {
   "cell_type": "code",
   "execution_count": 99,
   "metadata": {
    "execution": {
     "iopub.execute_input": "2022-04-29T02:49:07.299976Z",
     "iopub.status.busy": "2022-04-29T02:49:07.299363Z",
     "iopub.status.idle": "2022-04-29T02:49:08.015738Z",
     "shell.execute_reply": "2022-04-29T02:49:08.014869Z",
     "shell.execute_reply.started": "2022-04-29T02:49:07.299927Z"
    }
   },
   "outputs": [],
   "source": [
    "BATCH_SIZE = 256\n",
    "X_train, X_test, y_train, y_test = train_test_split(X_Train, y_train, test_size=0.2, random_state=SEED)"
   ]
  },
  {
   "cell_type": "code",
   "execution_count": 100,
   "metadata": {
    "execution": {
     "iopub.execute_input": "2022-04-29T02:49:08.019304Z",
     "iopub.status.busy": "2022-04-29T02:49:08.019025Z",
     "iopub.status.idle": "2022-04-29T02:49:08.214404Z",
     "shell.execute_reply": "2022-04-29T02:49:08.213563Z",
     "shell.execute_reply.started": "2022-04-29T02:49:08.019277Z"
    }
   },
   "outputs": [],
   "source": [
    "fig, ax = plt.subplots(1, 3, figsize=(15, 15))\n",
    "for i in range(3):\n",
    "    ax[i].set_axis_off()\n",
    "    ax[i].imshow(X_train[i])\n",
    "    ax[i].set_title(disease_types[np.argmax(y_train[i])])"
   ]
  },
  {
   "cell_type": "code",
   "execution_count": 111,
   "metadata": {
    "execution": {
     "iopub.execute_input": "2022-04-29T03:22:27.248351Z",
     "iopub.status.busy": "2022-04-29T03:22:27.247929Z",
     "iopub.status.idle": "2022-04-29T03:22:28.663833Z",
     "shell.execute_reply": "2022-04-29T03:22:28.662900Z",
     "shell.execute_reply.started": "2022-04-29T03:22:27.248319Z"
    }
   },
   "outputs": [],
   "source": [
    "def plot_defects(defect_types, rows, cols):\n",
    "    fig, ax = plt.subplots(rows, cols, figsize=(12, 12))\n",
    "    defect_files = train['File'][train['Disease Type'] == defect_types].values\n",
    "    n = 0\n",
    "    for i in range(rows):\n",
    "        for j in range(cols):\n",
    "            image_path = os.path.join(data_dir, defect_files[n])\n",
    "            ax[i, j].set_xticks([])\n",
    "            ax[i, j].set_yticks([])\n",
    "            ax[i, j].imshow(cv2.imread(image_path))\n",
    "            n += 1\n",
    "\n",
    "plot_defects('non-COVID', 5, 5)"
   ]
  },
  {
   "cell_type": "code",
   "execution_count": 112,
   "metadata": {
    "execution": {
     "iopub.execute_input": "2022-04-29T03:22:43.998430Z",
     "iopub.status.busy": "2022-04-29T03:22:43.997936Z",
     "iopub.status.idle": "2022-04-29T03:22:45.364240Z",
     "shell.execute_reply": "2022-04-29T03:22:45.363352Z",
     "shell.execute_reply.started": "2022-04-29T03:22:43.998381Z"
    }
   },
   "outputs": [],
   "source": [
    "def plot_defects(defect_types, rows, cols):\n",
    "    fig, ax = plt.subplots(rows, cols, figsize=(12, 12))\n",
    "    defect_files = train['File'][train['Disease Type'] == defect_types].values\n",
    "    n = 0\n",
    "    for i in range(rows):\n",
    "        for j in range(cols):\n",
    "            image_path = os.path.join(data_dir, defect_files[n])\n",
    "            ax[i, j].set_xticks([])\n",
    "            ax[i, j].set_yticks([])\n",
    "            ax[i, j].imshow(cv2.imread(image_path))\n",
    "            n += 1\n",
    "\n",
    "plot_defects('COVID', 5, 5)"
   ]
  },
  {
   "cell_type": "code",
   "execution_count": 102,
   "metadata": {
    "execution": {
     "iopub.execute_input": "2022-04-29T02:49:08.729118Z",
     "iopub.status.busy": "2022-04-29T02:49:08.728508Z",
     "iopub.status.idle": "2022-04-29T02:49:08.733211Z",
     "shell.execute_reply": "2022-04-29T02:49:08.732408Z",
     "shell.execute_reply.started": "2022-04-29T02:49:08.729074Z"
    }
   },
   "outputs": [],
   "source": [
    "EPOCHS = 150\n",
    "SIZE=120\n",
    "N_ch=3"
   ]
  },
  {
   "cell_type": "code",
   "execution_count": 103,
   "metadata": {
    "execution": {
     "iopub.execute_input": "2022-04-29T02:49:08.735038Z",
     "iopub.status.busy": "2022-04-29T02:49:08.734502Z",
     "iopub.status.idle": "2022-04-29T02:49:08.749661Z",
     "shell.execute_reply": "2022-04-29T02:49:08.748536Z",
     "shell.execute_reply.started": "2022-04-29T02:49:08.735000Z"
    }
   },
   "outputs": [],
   "source": [
    "def resnet():\n",
    "    inres = InceptionResNetV2(weights='imagenet', include_top=False)\n",
    "\n",
    "    input = Input(shape=(SIZE, SIZE, N_ch))\n",
    "    x = Conv2D(3, (3, 3), padding='same')(input)\n",
    "    \n",
    "    x = inres(x)\n",
    "    \n",
    "    x = GlobalAveragePooling2D()(x)\n",
    "    x = BatchNormalization()(x)\n",
    "    x = Dropout(0.5)(x)\n",
    "    x = Dense(256, activation='relu')(x)\n",
    "    x = BatchNormalization()(x)\n",
    "    x = Dropout(0.5)(x)\n",
    "\n",
    "    # multi output\n",
    "    output = Dense(2,activation = 'softmax', name='root')(x)\n",
    " \n",
    "\n",
    "    # model\n",
    "    model = Model(input,output)\n",
    "    \n",
    "    optimizer = Adam(lr=0.002, beta_1=0.9, beta_2=0.999, epsilon=0.1, decay=0.0)\n",
    "    model.compile(loss='categorical_crossentropy', optimizer=optimizer, metrics=['accuracy'])\n",
    "    model.summary()\n",
    "    \n",
    "    return model"
   ]
  },
  {
   "cell_type": "code",
   "execution_count": 104,
   "metadata": {
    "execution": {
     "iopub.execute_input": "2022-04-29T02:49:08.751884Z",
     "iopub.status.busy": "2022-04-29T02:49:08.751281Z",
     "iopub.status.idle": "2022-04-29T03:16:54.406364Z",
     "shell.execute_reply": "2022-04-29T03:16:54.403632Z",
     "shell.execute_reply.started": "2022-04-29T02:49:08.751846Z"
    }
   },
   "outputs": [],
   "source": [
    "model = resnet()\n",
    "annealer = ReduceLROnPlateau(monitor='val_accuracy', factor=0.5, patience=5, verbose=1, min_lr=1e-3)\n",
    "checkpoint = ModelCheckpoint('InceptionResNetV2.h5', verbose=1, save_best_only=True)\n",
    "\n",
    "datagen = ImageDataGenerator(rotation_range=360, \n",
    "                        width_shift_range=0.2, \n",
    "                        height_shift_range=0.2, \n",
    "                        zoom_range=0.2, \n",
    "                        horizontal_flip=True,\n",
    "                        vertical_flip=True) \n",
    "\n",
    "datagen.fit(X_train)\n",
    "\n",
    "hist = model.fit_generator(datagen.flow(X_train, y_train, batch_size=BATCH_SIZE),\n",
    "               steps_per_epoch=X_train.shape[0] // BATCH_SIZE,\n",
    "               epochs=EPOCHS,\n",
    "               verbose=2,\n",
    "               callbacks=[annealer, checkpoint],\n",
    "               validation_data=(X_test, y_test))"
   ]
  },
  {
   "cell_type": "code",
   "execution_count": 105,
   "metadata": {
    "execution": {
     "iopub.execute_input": "2022-04-29T03:16:54.410757Z",
     "iopub.status.busy": "2022-04-29T03:16:54.410480Z",
     "iopub.status.idle": "2022-04-29T03:16:55.323675Z",
     "shell.execute_reply": "2022-04-29T03:16:55.322578Z",
     "shell.execute_reply.started": "2022-04-29T03:16:54.410730Z"
    }
   },
   "outputs": [],
   "source": [
    "from tensorflow.keras.utils import plot_model\n",
    "from IPython.display import Image\n",
    "plot_model(model, to_file='convnet.png', show_shapes=True,show_layer_names=True)\n",
    "Image(filename='convnet.png')"
   ]
  },
  {
   "cell_type": "code",
   "execution_count": 106,
   "metadata": {
    "execution": {
     "iopub.execute_input": "2022-04-29T03:16:55.330639Z",
     "iopub.status.busy": "2022-04-29T03:16:55.328389Z",
     "iopub.status.idle": "2022-04-29T03:16:56.608158Z",
     "shell.execute_reply": "2022-04-29T03:16:56.607410Z",
     "shell.execute_reply.started": "2022-04-29T03:16:55.330594Z"
    }
   },
   "outputs": [],
   "source": [
    "#model = load_model('../output/kaggle/working/model.h5')\n",
    "final_loss, final_accuracy = model.evaluate(X_test, y_test)\n",
    "print('Final Loss: {}, Final Accuracy: {}'.format(final_loss, final_accuracy))"
   ]
  },
  {
   "cell_type": "code",
   "execution_count": 107,
   "metadata": {
    "execution": {
     "iopub.execute_input": "2022-04-29T03:16:56.610970Z",
     "iopub.status.busy": "2022-04-29T03:16:56.610402Z",
     "iopub.status.idle": "2022-04-29T03:17:08.197212Z",
     "shell.execute_reply": "2022-04-29T03:17:08.196337Z",
     "shell.execute_reply.started": "2022-04-29T03:16:56.610927Z"
    }
   },
   "outputs": [],
   "source": [
    "Y_pred = model.predict(X_test)\n",
    "\n",
    "Y_pred = np.argmax(Y_pred, axis=1)\n",
    "Y_true = np.argmax(y_test, axis=1)\n",
    "\n",
    "cm = confusion_matrix(Y_true, Y_pred)\n",
    "plt.figure(figsize=(12, 12))\n",
    "ax = sns.heatmap(cm, cmap=plt.cm.Greens, annot=True, square=True, xticklabels=disease_types, yticklabels=disease_types)\n",
    "ax.set_ylabel('Actual', fontsize=40)\n",
    "ax.set_xlabel('Predicted', fontsize=40)"
   ]
  },
  {
   "cell_type": "code",
   "execution_count": 108,
   "metadata": {
    "execution": {
     "iopub.execute_input": "2022-04-29T03:17:08.200679Z",
     "iopub.status.busy": "2022-04-29T03:17:08.200356Z",
     "iopub.status.idle": "2022-04-29T03:17:08.215101Z",
     "shell.execute_reply": "2022-04-29T03:17:08.213533Z",
     "shell.execute_reply.started": "2022-04-29T03:17:08.200650Z"
    }
   },
   "outputs": [],
   "source": [
    "'''FP = confusion_matrix.sum(axis=0) - np.diag(confusion_matrix)  \n",
    "FN = confusion_matrix.sum(axis=1) - np.diag(confusion_matrix)\n",
    "TP = np.diag(confusion_matrix)\n",
    "TN = confusion_matrix.values.sum() - (FP + FN + TP)'''\n",
    "\n",
    "TN = cm[0][0]\n",
    "#print(TN)\n",
    "FN = cm[1][0]\n",
    "#print(FN)\n",
    "TP = cm[1][1]\n",
    "#print(TP)\n",
    "FP = cm[0][1]\n",
    "#print(FP)\n",
    "\n",
    "# Sensitivity, hit rate, recall, or true positive rate\n",
    "TPR = TP/(TP+FN)\n",
    "print(\"Sensitivity :\",TPR)\n",
    "# Specificity or true negative rate\n",
    "TNR = TN/(TN+FP)\n",
    "print(\"Specificity :\",TNR)\n",
    "# Precision or positive predictive value\n",
    "PPV = TP/(TP+FP)\n",
    "# Negative predictive value\n",
    "NPV = TN/(TN+FN)\n",
    "# Fall out or false positive rate\n",
    "FPR = FP/(FP+TN)\n",
    "# False negative rate\n",
    "FNR = FN/(TP+FN)\n",
    "print(\"FNR :\",FNR)\n",
    "# False discovery rate\n",
    "FDR = FP/(TP+FP)\n",
    "\n",
    "# Overall accuracy\n",
    "ACC = (TP+TN)/(TP+FP+FN+TN)\n",
    "print(\"Accuracy :\",ACC)"
   ]
  },
  {
   "cell_type": "code",
   "execution_count": 109,
   "metadata": {
    "execution": {
     "iopub.execute_input": "2022-04-29T03:17:08.217219Z",
     "iopub.status.busy": "2022-04-29T03:17:08.216732Z",
     "iopub.status.idle": "2022-04-29T03:17:08.553844Z",
     "shell.execute_reply": "2022-04-29T03:17:08.553008Z",
     "shell.execute_reply.started": "2022-04-29T03:17:08.217180Z"
    }
   },
   "outputs": [],
   "source": [
    "# accuracy plot \n",
    "plt.plot(hist.history['accuracy'])\n",
    "plt.plot(hist.history['val_accuracy'])\n",
    "plt.title('model accuracy')\n",
    "plt.ylabel('accuracy')\n",
    "plt.xlabel('epoch')\n",
    "plt.legend(['train', 'test'], loc='upper left')\n",
    "plt.show()\n",
    "\n",
    "# loss plot\n",
    "plt.plot(hist.history['loss'])\n",
    "plt.plot(hist.history['val_loss'])\n",
    "plt.title('model loss')\n",
    "plt.ylabel('loss')\n",
    "plt.xlabel('epoch')\n",
    "plt.legend(['train', 'test'], loc='upper left')\n",
    "plt.show()"
   ]
  },
  {
   "cell_type": "code",
   "execution_count": 128,
   "metadata": {
    "execution": {
     "iopub.execute_input": "2022-04-29T03:35:10.116799Z",
     "iopub.status.busy": "2022-04-29T03:35:10.116306Z",
     "iopub.status.idle": "2022-04-29T03:35:11.525453Z",
     "shell.execute_reply": "2022-04-29T03:35:11.524520Z",
     "shell.execute_reply.started": "2022-04-29T03:35:10.116754Z"
    }
   },
   "outputs": [],
   "source": [
    "from skimage import io\n",
    "from keras.preprocessing import image\n",
    "img = image.load_img('../input/sarscov2-ctscan-dataset/COVID/Covid (1000).png', grayscale=False, target_size=(64, 64))\n",
    "show_img=image.load_img('../input/sarscov2-ctscan-dataset/COVID/Covid (1000).png', grayscale=False, target_size=(200, 200))\n",
    "disease_class=['Covid-19','Non Covid-19']\n",
    "x = image.img_to_array(img)\n",
    "x = np.expand_dims(x, axis = 0)\n",
    "x /= 255\n",
    "\n",
    "custom = model.predict(X_test)\n",
    "print(custom[0])\n",
    "\n",
    "plt.imshow(show_img)\n",
    "plt.show()\n",
    "a=custom[0]\n",
    "ind=np.argmax(a)\n",
    "        \n",
    "print('Prediction:',disease_class[ind])"
   ]
  },
  {
   "cell_type": "code",
   "execution_count": null,
   "metadata": {},
   "outputs": [],
   "source": []
  }
 ],
 "metadata": {
  "kernelspec": {
   "display_name": "Python 3",
   "language": "python",
   "name": "python3"
  },
  "language_info": {
   "codemirror_mode": {
    "name": "ipython",
    "version": 3
   },
   "file_extension": ".py",
   "mimetype": "text/x-python",
   "name": "python",
   "nbconvert_exporter": "python",
   "pygments_lexer": "ipython3",
   "version": "3.8.8"
  }
 },
 "nbformat": 4,
 "nbformat_minor": 4
}
